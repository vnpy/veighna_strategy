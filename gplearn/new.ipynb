{
 "cells": [
  {
   "cell_type": "code",
   "execution_count": 37,
   "metadata": {},
   "outputs": [],
   "source": [
    "from datetime import datetime\n",
    "from functools import lru_cache\n",
    "\n",
    "import numpy as np\n",
    "import pandas as pd\n",
    "import plotly.express as px\n",
    "from tqdm import tqdm\n",
    "\n",
    "from gplearn.genetic import SymbolicRegressor\n",
    "\n",
    "from vnpy.trader.database import get_database\n",
    "from vnpy.trader.constant import Interval, Exchange"
   ]
  },
  {
   "attachments": {},
   "cell_type": "markdown",
   "metadata": {},
   "source": [
    "# 数据处理"
   ]
  },
  {
   "cell_type": "code",
   "execution_count": null,
   "metadata": {},
   "outputs": [],
   "source": [
    "db = get_database()"
   ]
  },
  {
   "cell_type": "code",
   "execution_count": null,
   "metadata": {},
   "outputs": [],
   "source": [
    "bars = db.load_bar_data(\n",
    "    symbol=\"i888\",\n",
    "    exchange=Exchange.DCE,\n",
    "    interval=Interval.MINUTE,\n",
    "    start=datetime(2010, 1, 1),\n",
    "    end=datetime.now()\n",
    ")"
   ]
  },
  {
   "cell_type": "code",
   "execution_count": null,
   "metadata": {},
   "outputs": [],
   "source": [
    "df = pd.DataFrame.from_dict(b.__dict__ for b in bars)\n",
    "df.head()"
   ]
  },
  {
   "cell_type": "code",
   "execution_count": null,
   "metadata": {},
   "outputs": [],
   "source": [
    "new_df = pd.DataFrame({\n",
    "    \"datetime\": df[\"datetime\"],\n",
    "    \"open_price\": df[\"open_price\"],\n",
    "    \"high_price\": df[\"high_price\"],\n",
    "    \"low_price\": df[\"low_price\"],\n",
    "    \"close_price\": df[\"close_price\"],\n",
    "    \"volume\": df[\"volume\"],\n",
    "    \"turnover\": df[\"turnover\"],\n",
    "    \"open_interest\": df[\"open_interest\"],\n",
    "})"
   ]
  },
  {
   "cell_type": "code",
   "execution_count": null,
   "metadata": {},
   "outputs": [],
   "source": [
    "new_df.to_feather(\"i888.fth\")"
   ]
  },
  {
   "attachments": {},
   "cell_type": "markdown",
   "metadata": {},
   "source": [
    "# 遍历回测"
   ]
  },
  {
   "cell_type": "code",
   "execution_count": 17,
   "metadata": {},
   "outputs": [],
   "source": [
    "df = pd.read_feather(\"i888.fth\")\n",
    "df.set_index(\"datetime\", inplace=True)"
   ]
  },
  {
   "cell_type": "code",
   "execution_count": 18,
   "metadata": {},
   "outputs": [],
   "source": [
    "df = df[df.index > \"2022-1-1\"]"
   ]
  },
  {
   "cell_type": "code",
   "execution_count": 20,
   "metadata": {},
   "outputs": [],
   "source": [
    "df.reset_index().to_feather(\"data.fth\")"
   ]
  },
  {
   "cell_type": "code",
   "execution_count": 4,
   "metadata": {},
   "outputs": [],
   "source": [
    "df[\"fast_ma\"] = df[\"close_price\"].rolling(20).mean()\n",
    "df[\"slow_ma\"] = df[\"close_price\"].rolling(100).mean()\n",
    "df[\"signal\"] = (df[\"fast_ma\"] - df[\"slow_ma\"]).fillna(0)"
   ]
  },
  {
   "cell_type": "code",
   "execution_count": 42,
   "metadata": {},
   "outputs": [],
   "source": [
    "def run_backtesting(\n",
    "    df: pd.DataFrame,\n",
    "    window: int = 10000,\n",
    "    tp_percent: float = 0.05,\n",
    "    sl_percent: float = 0.05,\n",
    "    quantile: float = 0.2,\n",
    "    capital: int = 1_000_000,\n",
    "    commission: float = 3 / 10000,\n",
    "    show_progress: bool = False\n",
    ") -> None:\n",
    "    \"\"\"执行回测任务\"\"\"\n",
    "    # 滚动窗口计算分位数\n",
    "    df[\"long_entry\"] = df[\"signal\"].rolling(window).quantile(1 - quantile)\n",
    "    df[\"short_entry\"] = df[\"signal\"].rolling(window).quantile(quantile)\n",
    "\n",
    "    # 初始化状态变量\n",
    "    pos = 0         # 持仓\n",
    "    fee = 0         # 交易成本\n",
    "    long_sl = 0     # 多头止损\n",
    "    long_tp = 0     # 多头止盈\n",
    "    short_sl = 0    # 空头止损\n",
    "    short_tp = 0    # 空头止盈\n",
    "    result = {}     # 持仓结果字典\n",
    "\n",
    "    # 遍历计算仓位\n",
    "    it = df.rolling(window)\n",
    "    if show_progress:\n",
    "        it = tqdm(it, total=(len(df)))\n",
    "\n",
    "    for v in it:\n",
    "        # 检查数据长度\n",
    "        if len(v.index) < window:\n",
    "            continue\n",
    "\n",
    "        # 提取数据\n",
    "        row = v.iloc[-1, :]\n",
    "\n",
    "        last_ix = row.name\n",
    "        last_signal = row.signal\n",
    "        last_price = row.close_price\n",
    "        long_entry = row.long_entry\n",
    "        short_entry = row.short_entry\n",
    "\n",
    "        # 记录当前仓位\n",
    "        result[last_ix] = pos\n",
    "\n",
    "        # 重置交易成本\n",
    "        fee = 0\n",
    "\n",
    "        # 判断开仓\n",
    "        if not pos:\n",
    "            if last_signal >= long_entry:\n",
    "                pos = int(round(capital / last_price))\n",
    "                fee = abs(pos * last_price * commission)\n",
    "\n",
    "                long_sl = last_price * (1 - sl_percent)\n",
    "                long_tp = last_price * (1 + tp_percent)\n",
    "            elif last_signal <= short_entry:\n",
    "                pos = -int(round(capital / last_price))\n",
    "                fee = pos * last_price * commission\n",
    "\n",
    "                short_sl = last_price * (1 + sl_percent)\n",
    "                short_tp = last_price * (1 - tp_percent)\n",
    "        # 多头平仓\n",
    "        elif pos > 0:\n",
    "            if last_price >= long_tp or last_price <= long_sl:\n",
    "                fee = abs(pos * last_price * commission)\n",
    "\n",
    "                pos = 0\n",
    "                long_sl = 0\n",
    "                long_tp = 0\n",
    "        # 空头平仓\n",
    "        elif pos < 0:\n",
    "            if last_price <= short_tp or last_price >= short_sl:\n",
    "                fee = abs(pos * last_price * commission)\n",
    "\n",
    "                pos = 0\n",
    "                short_sl = 0\n",
    "                short_tp = 0                \n",
    "    \n",
    "    # 统计盈亏结果\n",
    "    df[\"pos\"] = pd.Series(result)\n",
    "    df[\"change\"] = (df[\"close_price\"] - df[\"close_price\"].shift(1)).fillna(0)\n",
    "    df[\"trade\"] = (df[\"pos\"] - df[\"pos\"].shift(1)).fillna(0)\n",
    "    df[\"fee\"] = abs(df[\"trade\"] * df[\"close_price\"] * commission)\n",
    "    df[\"pnl\"] = df[\"change\"] * df[\"pos\"] - df[\"fee\"]\n",
    "\n",
    "    df[\"signal_nav\"] = df[\"pnl\"].cumsum() / capital + 1\n",
    "    df[\"index_nav\"] = df[\"close_price\"] / df[\"close_price\"].iat[0]\n",
    "\n",
    "    return df"
   ]
  },
  {
   "cell_type": "code",
   "execution_count": 43,
   "metadata": {},
   "outputs": [],
   "source": [
    "def calculate_sharpe(nav: pd.Series) -> float:\n",
    "    \"\"\"计算夏普比率\"\"\"\n",
    "    r = nav.pct_change()\n",
    "    return r.mean() / r.std()"
   ]
  },
  {
   "cell_type": "code",
   "execution_count": 44,
   "metadata": {},
   "outputs": [
    {
     "ename": "KeyError",
     "evalue": "'signal'",
     "output_type": "error",
     "traceback": [
      "\u001b[1;31m---------------------------------------------------------------------------\u001b[0m",
      "\u001b[1;31mKeyError\u001b[0m                                  Traceback (most recent call last)",
      "File \u001b[1;32mc:\\veighna_studio\\lib\\site-packages\\pandas\\core\\indexes\\base.py:3800\u001b[0m, in \u001b[0;36mIndex.get_loc\u001b[1;34m(self, key, method, tolerance)\u001b[0m\n\u001b[0;32m   3799\u001b[0m \u001b[39mtry\u001b[39;00m:\n\u001b[1;32m-> 3800\u001b[0m     \u001b[39mreturn\u001b[39;00m \u001b[39mself\u001b[39;49m\u001b[39m.\u001b[39;49m_engine\u001b[39m.\u001b[39;49mget_loc(casted_key)\n\u001b[0;32m   3801\u001b[0m \u001b[39mexcept\u001b[39;00m \u001b[39mKeyError\u001b[39;00m \u001b[39mas\u001b[39;00m err:\n",
      "File \u001b[1;32mc:\\veighna_studio\\lib\\site-packages\\pandas\\_libs\\index.pyx:138\u001b[0m, in \u001b[0;36mpandas._libs.index.IndexEngine.get_loc\u001b[1;34m()\u001b[0m\n",
      "File \u001b[1;32mc:\\veighna_studio\\lib\\site-packages\\pandas\\_libs\\index.pyx:165\u001b[0m, in \u001b[0;36mpandas._libs.index.IndexEngine.get_loc\u001b[1;34m()\u001b[0m\n",
      "File \u001b[1;32mpandas\\_libs\\hashtable_class_helper.pxi:5745\u001b[0m, in \u001b[0;36mpandas._libs.hashtable.PyObjectHashTable.get_item\u001b[1;34m()\u001b[0m\n",
      "File \u001b[1;32mpandas\\_libs\\hashtable_class_helper.pxi:5753\u001b[0m, in \u001b[0;36mpandas._libs.hashtable.PyObjectHashTable.get_item\u001b[1;34m()\u001b[0m\n",
      "\u001b[1;31mKeyError\u001b[0m: 'signal'",
      "\nThe above exception was the direct cause of the following exception:\n",
      "\u001b[1;31mKeyError\u001b[0m                                  Traceback (most recent call last)",
      "Cell \u001b[1;32mIn[44], line 1\u001b[0m\n\u001b[1;32m----> 1\u001b[0m df \u001b[39m=\u001b[39m run_backtesting(df)\n",
      "Cell \u001b[1;32mIn[42], line 13\u001b[0m, in \u001b[0;36mrun_backtesting\u001b[1;34m(df, window, tp_percent, sl_percent, quantile, capital, commission, show_progress)\u001b[0m\n\u001b[0;32m     11\u001b[0m \u001b[39m\"\"\"执行回测任务\"\"\"\u001b[39;00m\n\u001b[0;32m     12\u001b[0m \u001b[39m# 滚动窗口计算分位数\u001b[39;00m\n\u001b[1;32m---> 13\u001b[0m df[\u001b[39m\"\u001b[39m\u001b[39mlong_entry\u001b[39m\u001b[39m\"\u001b[39m] \u001b[39m=\u001b[39m df[\u001b[39m\"\u001b[39;49m\u001b[39msignal\u001b[39;49m\u001b[39m\"\u001b[39;49m]\u001b[39m.\u001b[39mrolling(window)\u001b[39m.\u001b[39mquantile(\u001b[39m1\u001b[39m \u001b[39m-\u001b[39m quantile)\n\u001b[0;32m     14\u001b[0m df[\u001b[39m\"\u001b[39m\u001b[39mshort_entry\u001b[39m\u001b[39m\"\u001b[39m] \u001b[39m=\u001b[39m df[\u001b[39m\"\u001b[39m\u001b[39msignal\u001b[39m\u001b[39m\"\u001b[39m]\u001b[39m.\u001b[39mrolling(window)\u001b[39m.\u001b[39mquantile(quantile)\n\u001b[0;32m     16\u001b[0m \u001b[39m# 初始化状态变量\u001b[39;00m\n",
      "File \u001b[1;32mc:\\veighna_studio\\lib\\site-packages\\pandas\\core\\frame.py:3805\u001b[0m, in \u001b[0;36mDataFrame.__getitem__\u001b[1;34m(self, key)\u001b[0m\n\u001b[0;32m   3803\u001b[0m \u001b[39mif\u001b[39;00m \u001b[39mself\u001b[39m\u001b[39m.\u001b[39mcolumns\u001b[39m.\u001b[39mnlevels \u001b[39m>\u001b[39m \u001b[39m1\u001b[39m:\n\u001b[0;32m   3804\u001b[0m     \u001b[39mreturn\u001b[39;00m \u001b[39mself\u001b[39m\u001b[39m.\u001b[39m_getitem_multilevel(key)\n\u001b[1;32m-> 3805\u001b[0m indexer \u001b[39m=\u001b[39m \u001b[39mself\u001b[39;49m\u001b[39m.\u001b[39;49mcolumns\u001b[39m.\u001b[39;49mget_loc(key)\n\u001b[0;32m   3806\u001b[0m \u001b[39mif\u001b[39;00m is_integer(indexer):\n\u001b[0;32m   3807\u001b[0m     indexer \u001b[39m=\u001b[39m [indexer]\n",
      "File \u001b[1;32mc:\\veighna_studio\\lib\\site-packages\\pandas\\core\\indexes\\base.py:3802\u001b[0m, in \u001b[0;36mIndex.get_loc\u001b[1;34m(self, key, method, tolerance)\u001b[0m\n\u001b[0;32m   3800\u001b[0m     \u001b[39mreturn\u001b[39;00m \u001b[39mself\u001b[39m\u001b[39m.\u001b[39m_engine\u001b[39m.\u001b[39mget_loc(casted_key)\n\u001b[0;32m   3801\u001b[0m \u001b[39mexcept\u001b[39;00m \u001b[39mKeyError\u001b[39;00m \u001b[39mas\u001b[39;00m err:\n\u001b[1;32m-> 3802\u001b[0m     \u001b[39mraise\u001b[39;00m \u001b[39mKeyError\u001b[39;00m(key) \u001b[39mfrom\u001b[39;00m \u001b[39merr\u001b[39;00m\n\u001b[0;32m   3803\u001b[0m \u001b[39mexcept\u001b[39;00m \u001b[39mTypeError\u001b[39;00m:\n\u001b[0;32m   3804\u001b[0m     \u001b[39m# If we have a listlike key, _check_indexing_error will raise\u001b[39;00m\n\u001b[0;32m   3805\u001b[0m     \u001b[39m#  InvalidIndexError. Otherwise we fall through and re-raise\u001b[39;00m\n\u001b[0;32m   3806\u001b[0m     \u001b[39m#  the TypeError.\u001b[39;00m\n\u001b[0;32m   3807\u001b[0m     \u001b[39mself\u001b[39m\u001b[39m.\u001b[39m_check_indexing_error(key)\n",
      "\u001b[1;31mKeyError\u001b[0m: 'signal'"
     ]
    }
   ],
   "source": [
    "df = run_backtesting(df)"
   ]
  },
  {
   "cell_type": "code",
   "execution_count": 8,
   "metadata": {},
   "outputs": [
    {
     "data": {
      "text/plain": [
       "0.003196011545968546"
      ]
     },
     "execution_count": 8,
     "metadata": {},
     "output_type": "execute_result"
    }
   ],
   "source": [
    "calculate_sharpe(df[\"signal_nav\"])"
   ]
  },
  {
   "cell_type": "code",
   "execution_count": 25,
   "metadata": {},
   "outputs": [],
   "source": [
    "@lru_cache\n",
    "def load_df() -> pd.DataFrame:\n",
    "    \"\"\"读取DataFrame\"\"\"\n",
    "    return pd.read_feather(\"data.fth\")"
   ]
  },
  {
   "cell_type": "code",
   "execution_count": 45,
   "metadata": {},
   "outputs": [],
   "source": [
    "def _fitness(\n",
    "    y: np.ndarray,          # 收盘价序列\n",
    "    y_pred: np.ndarray,     # 信号值序列\n",
    "    w: np.ndarray\n",
    ") -> float:\n",
    "    \"\"\"计算适应度\"\"\"\n",
    "    # 读取DataFrame\n",
    "    df: pd.DataFrame = load_df()\n",
    "\n",
    "    # 检查y数据长度\n",
    "    if len(y) < len(df):\n",
    "        return 0\n",
    "\n",
    "    # 插入信号列\n",
    "    df[\"signal\"] = y\n",
    "\n",
    "    # 执行回测\n",
    "    df = run_backtesting(df)\n",
    "\n",
    "    # 计算适应度\n",
    "    sharpe: float = calculate_sharpe(df[\"signal_nav\"])\n",
    "\n",
    "    return sharpe"
   ]
  },
  {
   "cell_type": "code",
   "execution_count": 46,
   "metadata": {},
   "outputs": [],
   "source": [
    "from gplearn.fitness import make_fitness\n",
    "\n",
    "my_fitness = make_fitness(function=_fitness, greater_is_better=True)\n"
   ]
  },
  {
   "cell_type": "code",
   "execution_count": 47,
   "metadata": {},
   "outputs": [],
   "source": [
    "load_df.cache_clear()\n",
    "df = load_df()\n",
    "df = df.drop([\"datetime\"], axis=1)\n",
    "x_train = df.to_numpy()\n",
    "y_train = df[\"close_price\"].to_numpy()"
   ]
  },
  {
   "cell_type": "code",
   "execution_count": 48,
   "metadata": {},
   "outputs": [
    {
     "name": "stdout",
     "output_type": "stream",
     "text": [
      "    |   Population Average    |             Best Individual              |\n",
      "---- ------------------------- ------------------------------------------ ----------\n",
      " Gen   Length          Fitness   Length          Fitness      OOB Fitness  Time Left\n",
      "   0    25.00     -0.000966773        9     -0.000966773     -0.000966773     63.38m\n",
      "   1     6.00     -0.000966773        7     -0.000966773     -0.000966773     53.24m\n",
      "   2     1.80     -0.000966773        3     -0.000966773     -0.000966773     48.96m\n",
      "   3     1.00     -0.000966773        1     -0.000966773     -0.000966773     46.00m\n",
      "   4     1.20     -0.000966773        1     -0.000966773     -0.000966773     42.75m\n",
      "   5     1.60     -0.000966773        1     -0.000966773     -0.000966773     40.05m\n",
      "   6     1.20     -0.000966773        1     -0.000966773     -0.000966773     37.07m\n",
      "   7     1.00     -0.000966773        1     -0.000966773     -0.000966773     34.00m\n",
      "   8     1.00     -0.000966773        1     -0.000966773     -0.000966773     31.33m\n",
      "   9     1.00     -0.000966773        1     -0.000966773     -0.000966773     28.34m\n",
      "  10     1.60     -0.000966773        3     -0.000966773     -0.000966773     25.78m\n",
      "  11     2.80     -0.000966773        1     -0.000966773     -0.000966773     22.92m\n",
      "  12     1.20     -0.000966773        1     -0.000966773     -0.000966773     19.84m\n",
      "  13     1.60     -0.000966773        1     -0.000966773     -0.000966773     17.06m\n",
      "  14     1.20     -0.000966773        1     -0.000966773     -0.000966773     14.30m\n",
      "  15     2.00     -0.000966773        1     -0.000966773     -0.000966773     11.37m\n",
      "  16     1.40     -0.000966773        1     -0.000966773     -0.000966773      8.55m\n",
      "  17     1.60     -0.000966773        1     -0.000966773     -0.000966773      5.75m\n",
      "  18     1.00     -0.000966773        1     -0.000966773     -0.000966773      2.87m\n",
      "  19     1.60     -0.000966773        1     -0.000966773     -0.000966773      0.00s\n"
     ]
    },
    {
     "data": {
      "text/html": [
       "<style>#sk-container-id-1 {color: black;background-color: white;}#sk-container-id-1 pre{padding: 0;}#sk-container-id-1 div.sk-toggleable {background-color: white;}#sk-container-id-1 label.sk-toggleable__label {cursor: pointer;display: block;width: 100%;margin-bottom: 0;padding: 0.3em;box-sizing: border-box;text-align: center;}#sk-container-id-1 label.sk-toggleable__label-arrow:before {content: \"▸\";float: left;margin-right: 0.25em;color: #696969;}#sk-container-id-1 label.sk-toggleable__label-arrow:hover:before {color: black;}#sk-container-id-1 div.sk-estimator:hover label.sk-toggleable__label-arrow:before {color: black;}#sk-container-id-1 div.sk-toggleable__content {max-height: 0;max-width: 0;overflow: hidden;text-align: left;background-color: #f0f8ff;}#sk-container-id-1 div.sk-toggleable__content pre {margin: 0.2em;color: black;border-radius: 0.25em;background-color: #f0f8ff;}#sk-container-id-1 input.sk-toggleable__control:checked~div.sk-toggleable__content {max-height: 200px;max-width: 100%;overflow: auto;}#sk-container-id-1 input.sk-toggleable__control:checked~label.sk-toggleable__label-arrow:before {content: \"▾\";}#sk-container-id-1 div.sk-estimator input.sk-toggleable__control:checked~label.sk-toggleable__label {background-color: #d4ebff;}#sk-container-id-1 div.sk-label input.sk-toggleable__control:checked~label.sk-toggleable__label {background-color: #d4ebff;}#sk-container-id-1 input.sk-hidden--visually {border: 0;clip: rect(1px 1px 1px 1px);clip: rect(1px, 1px, 1px, 1px);height: 1px;margin: -1px;overflow: hidden;padding: 0;position: absolute;width: 1px;}#sk-container-id-1 div.sk-estimator {font-family: monospace;background-color: #f0f8ff;border: 1px dotted black;border-radius: 0.25em;box-sizing: border-box;margin-bottom: 0.5em;}#sk-container-id-1 div.sk-estimator:hover {background-color: #d4ebff;}#sk-container-id-1 div.sk-parallel-item::after {content: \"\";width: 100%;border-bottom: 1px solid gray;flex-grow: 1;}#sk-container-id-1 div.sk-label:hover label.sk-toggleable__label {background-color: #d4ebff;}#sk-container-id-1 div.sk-serial::before {content: \"\";position: absolute;border-left: 1px solid gray;box-sizing: border-box;top: 0;bottom: 0;left: 50%;z-index: 0;}#sk-container-id-1 div.sk-serial {display: flex;flex-direction: column;align-items: center;background-color: white;padding-right: 0.2em;padding-left: 0.2em;position: relative;}#sk-container-id-1 div.sk-item {position: relative;z-index: 1;}#sk-container-id-1 div.sk-parallel {display: flex;align-items: stretch;justify-content: center;background-color: white;position: relative;}#sk-container-id-1 div.sk-item::before, #sk-container-id-1 div.sk-parallel-item::before {content: \"\";position: absolute;border-left: 1px solid gray;box-sizing: border-box;top: 0;bottom: 0;left: 50%;z-index: -1;}#sk-container-id-1 div.sk-parallel-item {display: flex;flex-direction: column;z-index: 1;position: relative;background-color: white;}#sk-container-id-1 div.sk-parallel-item:first-child::after {align-self: flex-end;width: 50%;}#sk-container-id-1 div.sk-parallel-item:last-child::after {align-self: flex-start;width: 50%;}#sk-container-id-1 div.sk-parallel-item:only-child::after {width: 0;}#sk-container-id-1 div.sk-dashed-wrapped {border: 1px dashed gray;margin: 0 0.4em 0.5em 0.4em;box-sizing: border-box;padding-bottom: 0.4em;background-color: white;}#sk-container-id-1 div.sk-label label {font-family: monospace;font-weight: bold;display: inline-block;line-height: 1.2em;}#sk-container-id-1 div.sk-label-container {text-align: center;}#sk-container-id-1 div.sk-container {/* jupyter's `normalize.less` sets `[hidden] { display: none; }` but bootstrap.min.css set `[hidden] { display: none !important; }` so we also need the `!important` here to be able to override the default hidden behavior on the sphinx rendered scikit-learn.org. See: https://github.com/scikit-learn/scikit-learn/issues/21755 */display: inline-block !important;position: relative;}#sk-container-id-1 div.sk-text-repr-fallback {display: none;}</style><div id=\"sk-container-id-1\" class=\"sk-top-container\"><div class=\"sk-text-repr-fallback\"><pre>X4</pre><b>In a Jupyter environment, please rerun this cell to show the HTML representation or trust the notebook. <br />On GitHub, the HTML representation is unable to render, please try loading this page with nbviewer.org.</b></div><div class=\"sk-container\" hidden><div class=\"sk-item\"><div class=\"sk-estimator sk-toggleable\"><input class=\"sk-toggleable__control sk-hidden--visually\" id=\"sk-estimator-id-1\" type=\"checkbox\" checked><label for=\"sk-estimator-id-1\" class=\"sk-toggleable__label sk-toggleable__label-arrow\">SymbolicRegressor</label><div class=\"sk-toggleable__content\"><pre>X4</pre></div></div></div></div></div>"
      ],
      "text/plain": [
       "SymbolicRegressor(max_samples=0.9,\n",
       "                  metric=<gplearn.fitness._Fitness object at 0x000001DBB3EEBC70>,\n",
       "                  p_crossover=0.7, p_hoist_mutation=0.05, p_point_mutation=0.1,\n",
       "                  p_subtree_mutation=0.1, parsimony_coefficient=0.01,\n",
       "                  population_size=10, random_state=0, stopping_criteria=0.01,\n",
       "                  verbose=1)"
      ]
     },
     "execution_count": 48,
     "metadata": {},
     "output_type": "execute_result"
    }
   ],
   "source": [
    "est_gp = SymbolicRegressor(\n",
    "    population_size=10,\n",
    "    generations=20,\n",
    "    stopping_criteria=0.01,\n",
    "    p_crossover=0.7,\n",
    "    p_subtree_mutation=0.1,\n",
    "    p_hoist_mutation=0.05,\n",
    "    p_point_mutation=0.1,\n",
    "    max_samples=0.9,\n",
    "    verbose=1,\n",
    "    parsimony_coefficient=0.01,\n",
    "    random_state=0,\n",
    "    metric=my_fitness\n",
    ")\n",
    "est_gp.fit(x_train, y_train)"
   ]
  },
  {
   "cell_type": "code",
   "execution_count": null,
   "metadata": {},
   "outputs": [],
   "source": []
  }
 ],
 "metadata": {
  "kernelspec": {
   "display_name": "Python 3",
   "language": "python",
   "name": "python3"
  },
  "language_info": {
   "codemirror_mode": {
    "name": "ipython",
    "version": 3
   },
   "file_extension": ".py",
   "mimetype": "text/x-python",
   "name": "python",
   "nbconvert_exporter": "python",
   "pygments_lexer": "ipython3",
   "version": "3.10.2"
  },
  "orig_nbformat": 4,
  "vscode": {
   "interpreter": {
    "hash": "1b43cb0bd93d5abbadd54afed8252f711d4681fe6223ad6b67ffaee289648f85"
   }
  }
 },
 "nbformat": 4,
 "nbformat_minor": 2
}
