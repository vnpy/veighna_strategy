{
 "cells": [
  {
   "cell_type": "code",
   "execution_count": 1,
   "metadata": {},
   "outputs": [],
   "source": [
    "from datetime import datetime\n",
    "\n",
    "from tqdm import tqdm\n",
    "import pandas as pd\n",
    "import plotly.express as px\n",
    "\n",
    "from vnpy.trader.database import get_database\n",
    "from vnpy.trader.constant import Interval, Exchange"
   ]
  },
  {
   "attachments": {},
   "cell_type": "markdown",
   "metadata": {},
   "source": [
    "# 数据处理"
   ]
  },
  {
   "cell_type": "code",
   "execution_count": null,
   "metadata": {},
   "outputs": [],
   "source": [
    "db = get_database()"
   ]
  },
  {
   "cell_type": "code",
   "execution_count": null,
   "metadata": {},
   "outputs": [],
   "source": [
    "bars = db.load_bar_data(\n",
    "    symbol=\"i888\",\n",
    "    exchange=Exchange.DCE,\n",
    "    interval=Interval.MINUTE,\n",
    "    start=datetime(2010, 1, 1),\n",
    "    end=datetime.now()\n",
    ")"
   ]
  },
  {
   "cell_type": "code",
   "execution_count": null,
   "metadata": {},
   "outputs": [],
   "source": [
    "df = pd.DataFrame.from_dict(b.__dict__ for b in bars)\n",
    "df.head()"
   ]
  },
  {
   "cell_type": "code",
   "execution_count": null,
   "metadata": {},
   "outputs": [],
   "source": [
    "df.drop(labels=[\"gateway_name\", \"interval\", \"symbol\", \"exchange\", \"vt_symbol\"], axis=1, inplace=True)"
   ]
  },
  {
   "cell_type": "code",
   "execution_count": null,
   "metadata": {},
   "outputs": [],
   "source": [
    "df.to_feather(\"i888.fth\")"
   ]
  },
  {
   "attachments": {},
   "cell_type": "markdown",
   "metadata": {},
   "source": [
    "# 遍历回测"
   ]
  },
  {
   "cell_type": "code",
   "execution_count": 2,
   "metadata": {},
   "outputs": [],
   "source": [
    "df = pd.read_feather(\"i888.fth\")\n",
    "df.set_index(\"datetime\", inplace=True)"
   ]
  },
  {
   "cell_type": "code",
   "execution_count": 3,
   "metadata": {},
   "outputs": [],
   "source": [
    "df = df[df.index > \"2022-1-1\"]"
   ]
  },
  {
   "cell_type": "code",
   "execution_count": 4,
   "metadata": {},
   "outputs": [],
   "source": [
    "df[\"fast_ma\"] = df[\"close_price\"].rolling(20).mean()\n",
    "df[\"slow_ma\"] = df[\"close_price\"].rolling(100).mean()\n",
    "df[\"signal\"] = (df[\"fast_ma\"] - df[\"slow_ma\"]).fillna(0)"
   ]
  },
  {
   "cell_type": "code",
   "execution_count": 18,
   "metadata": {},
   "outputs": [],
   "source": [
    "def run_backtesting(\n",
    "    df: pd.DataFrame,\n",
    "    window: int = 10000,\n",
    "    tp_percent: float = 0.05,\n",
    "    sl_percent: float = 0.05,\n",
    "    quantile: float = 0.2,\n",
    "    capital: int = 1_000_000,\n",
    "    commission: float = 3 / 10000,\n",
    "    show_progress: bool = True\n",
    ") -> None:\n",
    "    \"\"\"执行回测任务\"\"\"\n",
    "    # 滚动窗口计算分位数\n",
    "    df[\"long_entry\"] = df[\"signal\"].rolling(window).quantile(1 - quantile)\n",
    "    df[\"short_entry\"] = df[\"signal\"].rolling(window).quantile(quantile)\n",
    "\n",
    "    # 初始化状态变量\n",
    "    pos = 0         # 持仓\n",
    "    fee = 0         # 交易成本\n",
    "    long_sl = 0     # 多头止损\n",
    "    long_tp = 0     # 多头止盈\n",
    "    short_sl = 0    # 空头止损\n",
    "    short_tp = 0    # 空头止盈\n",
    "\n",
    "    pos_result = {}     # 持仓结果字典\n",
    "    fee_result = {}     # 交易成本字典\n",
    "\n",
    "    # 遍历计算仓位\n",
    "    it = df.rolling(window)\n",
    "    if show_progress:\n",
    "        it = tqdm(it, total=(len(df)))\n",
    "\n",
    "    for v in it:\n",
    "        # 检查数据长度\n",
    "        if len(v.index) < window:\n",
    "            continue\n",
    "\n",
    "        # 提取数据\n",
    "        row = v.iloc[-1, :]\n",
    "\n",
    "        last_ix = row.name\n",
    "        last_signal = row.signal\n",
    "        last_price = row.close_price\n",
    "        long_entry = row.long_entry\n",
    "        short_entry = row.short_entry\n",
    "\n",
    "        # 记录当前仓位\n",
    "        pos_result[last_ix] = pos\n",
    "        fee_result[last_ix] = fee\n",
    "\n",
    "        # 重置交易成本\n",
    "        fee = 0\n",
    "\n",
    "        # 判断开仓\n",
    "        if not pos:\n",
    "            if last_signal >= long_entry:\n",
    "                pos = int(round(capital / last_price))\n",
    "                fee = abs(pos * last_price * commission)\n",
    "\n",
    "                long_sl = last_price * (1 - sl_percent)\n",
    "                long_tp = last_price * (1 + tp_percent)\n",
    "            elif last_signal <= short_entry:\n",
    "                pos = -int(round(capital / last_price))\n",
    "                fee = pos * last_price * commission\n",
    "\n",
    "                short_sl = last_price * (1 + sl_percent)\n",
    "                short_tp = last_price * (1 - tp_percent)\n",
    "        # 多头平仓\n",
    "        elif pos > 0:\n",
    "            if last_price >= long_tp or last_price <= long_sl:\n",
    "                fee = abs(pos * last_price * commission)\n",
    "\n",
    "                pos = 0\n",
    "                long_sl = 0\n",
    "                long_tp = 0\n",
    "        # 空头平仓\n",
    "        elif pos < 0:\n",
    "            if last_price <= short_tp or last_price >= short_sl:\n",
    "                fee = abs(pos * last_price * commission)\n",
    "\n",
    "                pos = 0\n",
    "                short_sl = 0\n",
    "                short_tp = 0                \n",
    "    \n",
    "    # 统计盈亏结果\n",
    "    df[\"pos\"] = pd.Series(pos_result)\n",
    "    df[\"fee\"] = pd.Series(fee_result)\n",
    "    df[\"change\"] = (df[\"close_price\"] - df[\"close_price\"].shift(1)).fillna(0)\n",
    "    df[\"pnl\"] = df[\"change\"] * df[\"pos\"] - df[\"fee\"]\n",
    "\n",
    "    df[\"signal_nav\"] = df[\"pnl\"].cumsum() / capital + 1\n",
    "    df[\"index_nav\"] = df[\"close_price\"] / df[\"close_price\"].iat[0]\n",
    "\n",
    "    return df"
   ]
  },
  {
   "cell_type": "code",
   "execution_count": 19,
   "metadata": {},
   "outputs": [
    {
     "name": "stderr",
     "output_type": "stream",
     "text": [
      "100%|██████████| 82200/82200 [00:08<00:00, 10138.92it/s]\n"
     ]
    }
   ],
   "source": [
    "df = run_backtesting(df)"
   ]
  },
  {
   "cell_type": "code",
   "execution_count": 21,
   "metadata": {},
   "outputs": [
    {
     "data": {
      "text/plain": [
       "datetime\n",
       "2022-02-21 13:54:00+08:00    300.03555\n",
       "2022-03-01 09:28:00+08:00    315.61860\n",
       "2022-03-01 09:29:00+08:00    300.02700\n",
       "2022-03-02 10:30:00+08:00    315.09900\n",
       "2022-03-02 10:31:00+08:00    299.98080\n",
       "                               ...    \n",
       "2022-11-25 21:05:00+08:00    300.06480\n",
       "2022-12-02 22:46:00+08:00    315.43200\n",
       "2022-12-02 22:48:00+08:00    299.90400\n",
       "2022-12-09 13:56:00+08:00    315.07200\n",
       "2022-12-09 13:57:00+08:00    300.04800\n",
       "Name: fee, Length: 145, dtype: float64"
      ]
     },
     "execution_count": 21,
     "metadata": {},
     "output_type": "execute_result"
    }
   ],
   "source": [
    "fee = df[\"fee\"].fillna(0)\n",
    "fee[fee != 0]"
   ]
  },
  {
   "cell_type": "code",
   "execution_count": null,
   "metadata": {},
   "outputs": [],
   "source": []
  },
  {
   "cell_type": "code",
   "execution_count": null,
   "metadata": {},
   "outputs": [],
   "source": []
  },
  {
   "cell_type": "code",
   "execution_count": null,
   "metadata": {},
   "outputs": [],
   "source": []
  }
 ],
 "metadata": {
  "kernelspec": {
   "display_name": "Python 3",
   "language": "python",
   "name": "python3"
  },
  "language_info": {
   "codemirror_mode": {
    "name": "ipython",
    "version": 3
   },
   "file_extension": ".py",
   "mimetype": "text/x-python",
   "name": "python",
   "nbconvert_exporter": "python",
   "pygments_lexer": "ipython3",
   "version": "3.10.2"
  },
  "orig_nbformat": 4,
  "vscode": {
   "interpreter": {
    "hash": "1b43cb0bd93d5abbadd54afed8252f711d4681fe6223ad6b67ffaee289648f85"
   }
  }
 },
 "nbformat": 4,
 "nbformat_minor": 2
}
