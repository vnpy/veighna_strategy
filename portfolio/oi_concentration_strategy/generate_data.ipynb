{
 "cells": [
  {
   "cell_type": "code",
   "execution_count": null,
   "id": "665f423a",
   "metadata": {},
   "outputs": [],
   "source": [
    "import datetime\n",
    "import pandas as pd\n",
    "from typing import List, Dict\n",
    "import numpy as np\n",
    "import os"
   ]
  },
  {
   "cell_type": "code",
   "execution_count": null,
   "id": "8203bb16",
   "metadata": {},
   "outputs": [],
   "source": [
    "#配置数据服务\n",
    "from rqdatac import*\n",
    "import rqdatac as rq\n",
    "rq.init('账号','密码')"
   ]
  },
  {
   "cell_type": "code",
   "execution_count": null,
   "id": "3ce7fcfd",
   "metadata": {},
   "outputs": [],
   "source": [
    "#上期所，大商所，郑商所共42个品种\n",
    "symbols: List = ['I', 'J', 'JM', 'EG', 'L', 'PP', 'V', 'A', 'B', 'C', 'CS', 'JD', 'M', 'P', 'Y',\n",
    "          'SF', 'SM', 'ZC', 'FG', 'MA', 'TA', 'AP', 'CF', 'CY', 'OI', 'RM', 'RS', 'SR',\n",
    "          'AG', 'AU', 'HC', 'RB', 'BU', 'FU', 'RU', 'SP', 'AL', 'CU', 'NI', 'PB', 'SN', 'ZN']"
   ]
  },
  {
   "cell_type": "code",
   "execution_count": null,
   "id": "f85de9f7",
   "metadata": {},
   "outputs": [],
   "source": [
    "#定义一个函数，从米筐拉原始持仓排名数据并保存为csv格式文件\n",
    "def save_oi_rank(symbol: str, start: str, end: str) -> None:\n",
    "    long_rank = futures.get_member_rank(symbol, start_date=start, end_date=end, rank_by='long')\n",
    "    long_rank.to_csv(symbol + '_long.csv')\n",
    "    short_rank = futures.get_member_rank(symbol, start_date=start, end_date=end, rank_by='short')\n",
    "    short_rank.to_csv(symbol + '_short.csv')"
   ]
  },
  {
   "cell_type": "code",
   "execution_count": null,
   "id": "2a6502e6",
   "metadata": {},
   "outputs": [],
   "source": [
    "#从米筐拉数据\n",
    "start: str = '2013-11-05'\n",
    "end: str = '2022-11-13'\n",
    "for symbol in symbols:\n",
    "    save_oi_rank(symbol, start, end)"
   ]
  },
  {
   "cell_type": "code",
   "execution_count": null,
   "id": "83a065f5",
   "metadata": {},
   "outputs": [],
   "source": [
    "#下一步把原始数据处理好，放进一个独立的文件夹，之后供策略调用\n",
    "#先获得当前路径\n",
    "cwd = os.getcwd()"
   ]
  },
  {
   "cell_type": "code",
   "execution_count": null,
   "id": "0e0ee995",
   "metadata": {},
   "outputs": [],
   "source": [
    "#创建一个文件夹\n",
    "os.mkdir(cwd + '\\\\processed_data')"
   ]
  },
  {
   "cell_type": "code",
   "execution_count": null,
   "id": "c0ba47f7",
   "metadata": {},
   "outputs": [],
   "source": [
    "#读取数据并整理，至此，每个品种每天前20大会员持仓数据已经整理完毕\n",
    "for symbol in symbols:\n",
    "    long_data = pd.read_csv(symbol + '_long.csv')\n",
    "    short_data = pd.read_csv(symbol + '_short.csv') \n",
    "    processed_long = long_data.groupby('trading_date').sum()\n",
    "    processed_short = short_data.groupby('trading_date').sum()\n",
    "    processed_long.to_csv(cwd + '\\\\processed_data' +  '\\\\' + symbol +'_processed_long.csv')\n",
    "    processed_short.to_csv(cwd + '\\\\processed_data' +  '\\\\' + symbol +'_processed_short.csv')\n",
    "    \n",
    "    long_data['volume'] = long_data['volume']**2\n",
    "    short_data['volume'] = short_data['volume']**2\n",
    "    processed_weighted_long = long_data.groupby('trading_date').sum()\n",
    "    processed_weighted_short = short_data.groupby('trading_date').sum()\n",
    "    processed_weighted_long.to_csv(cwd + '\\\\processed_data' +  '\\\\' + symbol +'_weighted_processed_long.csv')\n",
    "    processed_weighted_short.to_csv(cwd + '\\\\processed_data' +  '\\\\' + symbol +'_weighted_processed_short.csv')"
   ]
  },
  {
   "cell_type": "code",
   "execution_count": null,
   "id": "c55fbe95",
   "metadata": {},
   "outputs": [],
   "source": []
  },
  {
   "cell_type": "code",
   "execution_count": null,
   "id": "6b923351",
   "metadata": {},
   "outputs": [],
   "source": [
    "#接下来生成每个品种每天所有合约总持仓量。这一步很耗时，不到万不得已不要运行，因为在米筐API中，达到这个目标只能对每一天查询全部可交易的合约，\n",
    "#再对每个合约进行查询，每次只能查询一个合约，极其麻烦，而且很容易把一天的数据流量用完，我用了足足三天做这个事情。如果不用这个数据，可以用\n",
    "#主力合约持仓量来替代全部合约持仓量，实证发现结果也不会相差太远"
   ]
  },
  {
   "cell_type": "code",
   "execution_count": null,
   "id": "f097be2e",
   "metadata": {},
   "outputs": [],
   "source": [
    "total_oi: Dict = {}\n",
    "for symbol in symbols:\n",
    "    total_oi_list: List = []\n",
    "    time_stamp = long_oi_rank[symbol].index\n",
    "    for t in time_stamp:\n",
    "        oi = 0\n",
    "        trading_contracts = futures.get_contracts(symbol, t)\n",
    "        for contract in trading_contracts:\n",
    "            oi = oi + get_price(contract, start_date=t, end_date=t, fields='open_interest')['open_interest'][0]\n",
    "        total_oi_list.append(oi)\n",
    "    total_oi[symbol] = total_oi_list"
   ]
  },
  {
   "cell_type": "code",
   "execution_count": null,
   "id": "7e47e0a0",
   "metadata": {},
   "outputs": [],
   "source": [
    "total_oi.keys()\n",
    "for symbol in total_oi.keys():\n",
    "    a = pd.DataFrame()\n",
    "    a[symbol + '_total_oi'] = total_oi[symbol]\n",
    "    a.index = long_oi_rank[symbol].index\n",
    "    a.to_csv(symbol + '_total_oi.csv')"
   ]
  },
  {
   "cell_type": "code",
   "execution_count": null,
   "id": "2495c289",
   "metadata": {},
   "outputs": [],
   "source": []
  }
 ],
 "metadata": {
  "kernelspec": {
   "display_name": "Python 3 (ipykernel)",
   "language": "python",
   "name": "python3"
  },
  "language_info": {
   "codemirror_mode": {
    "name": "ipython",
    "version": 3
   },
   "file_extension": ".py",
   "mimetype": "text/x-python",
   "name": "python",
   "nbconvert_exporter": "python",
   "pygments_lexer": "ipython3",
   "version": "3.10.2"
  }
 },
 "nbformat": 4,
 "nbformat_minor": 5
}
