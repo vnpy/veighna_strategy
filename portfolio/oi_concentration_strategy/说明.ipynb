{
 "cells": [
  {
   "cell_type": "markdown",
   "id": "538906c5",
   "metadata": {},
   "source": [
    "    策略说明：研报认为某个品种期货的前20大会员持仓占比含有重要信息量，并以此构造指标进行交易。研报考虑了42个品种的期货合约。具体地：每一天收盘的时候利用持仓数据计算“强弱异常度”指标（列举了6种计算方法，这里使用的是WeightedLSDev2指标，因为文中说效果较好），第二天开盘进行调仓。每天持有WeightedLSDev2数值大的前20%品种的主力合约的多头仓位，持有WeightedLSDev2数值小的后20%品种的主力合约的空头仓位，等权配置。\n",
    "\n",
    "    复现回测说明：回测时间段是2015年到2016年。选择这段时间，跟获取的数据质量有关。有些品种是后来上市的，而且因为主力合约的拼接规则，前面可能价格是负数。突然间交易一个价格为负数的合约，会让投资组合的回测出现意想不到的错误结果，比如不正常的巨幅跳动等。笔者选择的这段时间，数据是正常的，回测出来的结果和研报的曲线基本吻合，夏普比率也较为接近，可认为复现成功"
   ]
  },
  {
   "cell_type": "markdown",
   "id": "e214f0f1",
   "metadata": {},
   "source": [
    "文件包介绍：文件夹oi_concentration_strategy里面内容如下。\n",
    "1、研报；\n",
    "2、策略py文件和jupyter回测脚本；\n",
    "3、processed_data文件夹，里面是处理好的主力多空持仓数据和总持仓数据，当然还包括加权的持仓数据。这些数据供策略调用\n",
    "4、generate_data脚本文件，里面是外部数据获取和处理的代码。运行这个脚本，会先从米筐拉原始持仓排名，并在当前目录将数据保存为一个个csv文件，然后处理这些文件并产生processed_data文件包\n",
    "5、从米筐拉取的原始多空主力持仓排名数据（一大堆csv文件）"
   ]
  },
  {
   "cell_type": "code",
   "execution_count": null,
   "id": "33a53b49",
   "metadata": {},
   "outputs": [],
   "source": []
  }
 ],
 "metadata": {
  "kernelspec": {
   "display_name": "Python 3 (ipykernel)",
   "language": "python",
   "name": "python3"
  },
  "language_info": {
   "codemirror_mode": {
    "name": "ipython",
    "version": 3
   },
   "file_extension": ".py",
   "mimetype": "text/x-python",
   "name": "python",
   "nbconvert_exporter": "python",
   "pygments_lexer": "ipython3",
   "version": "3.10.2"
  }
 },
 "nbformat": 4,
 "nbformat_minor": 5
}
